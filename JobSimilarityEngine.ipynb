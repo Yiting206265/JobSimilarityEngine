{
 "cells": [
  {
   "cell_type": "markdown",
   "id": "f9bef0a6-5d4e-4241-807c-d5d16871b645",
   "metadata": {},
   "source": [
    "# Take Home Project - Job Posting Duplication Detection"
   ]
  },
  {
   "attachments": {},
   "cell_type": "markdown",
   "id": "ec395298-8202-4c34-9453-b4f604fb113f",
   "metadata": {},
   "source": [
    "Goal: Identify duplicate job postings using a job posting dataset and apply NLP techniques to detect similarities. "
   ]
  },
  {
   "cell_type": "markdown",
   "id": "f0393b27-6d76-4f6e-a34d-819f913e5508",
   "metadata": {
    "jp-MarkdownHeadingCollapsed": true
   },
   "source": [
    "## 1. Open the data"
   ]
  },
  {
   "cell_type": "code",
   "execution_count": 1,
   "id": "4ffc721e-c4ac-41d8-8ac8-a593d2ab647f",
   "metadata": {
    "scrolled": true
   },
   "outputs": [
    {
     "name": "stdout",
     "output_type": "stream",
     "text": [
      "                                      jobTitle        companyName  \\\n",
      "0  Nuclear Medicine Tech, Full Time, Day Shift   Adventist Health   \n",
      "1          Radiation Therapist - SIGN-ON BONUS  SkinCure Oncology   \n",
      "2            Delivery Driver - Earn Extra Cash           DoorDash   \n",
      "3                                    Paramedic                AMR   \n",
      "4        Sales Lead - White House Black Market            Chico's   \n",
      "\n",
      "                                lid  \\\n",
      "0  07213bcc5db0efec311b1884459defed   \n",
      "1  53994c1a47063a39ed3bf5509c0d6676   \n",
      "2  22ea5183b183b0ba1999b465cddc0364   \n",
      "3  9255fae6f210f0ca9fdda3c32b99fc1e   \n",
      "4  362836240b3a6ad18c342d840f569622   \n",
      "\n",
      "                                          jobDescRaw finalZipcode finalState  \\\n",
      "0  <div class=\"normalText\"><p>Job Description</p>...        93465        CA,   \n",
      "1  <div class=\"normalText\"><p>Seeking Radiation T...        47802        IN,   \n",
      "2  <div class=\"-desktop-no-padding-top\" id=\"job-d...        46403         IN   \n",
      "3  <div class=\"-desktop-no-padding-top\" id=\"job-d...        11791         NY   \n",
      "4  <div class=\"normalText\"><p>Join our fashion-ob...        49315        MI,   \n",
      "\n",
      "      finalCity                            companyBranchName  \\\n",
      "0     Templeton     Adventist Health || Templeton, CA, 93465   \n",
      "1   Terre Haute  SkinCure Oncology || Terre Haute, IN, 47802   \n",
      "2        Hobart                       DoorDash || Hobart, IN   \n",
      "3     Bay Shore                         AMR || Bay Shore, NY   \n",
      "4  Byron Center           Chico's || Byron Center, MI, 49315   \n",
      "\n",
      "                                          jobDescUrl  \\\n",
      "0  https://www.postjobfree.com/job/vubjwa/nuclear...   \n",
      "1  https://www.postjobfree.com/job/vt9qzu/radiati...   \n",
      "2  https://us.jora.com/job/Delivery-Driver-36f004...   \n",
      "3  https://us.jora.com/job/Paramedic-30a825beca41...   \n",
      "4  https://www.postjobfree.com/job/vt7qu7/sales-l...   \n",
      "\n",
      "                                         nlpBenefits  \\\n",
      "0                                                 []   \n",
      "1  ['Vision Insurance', 'Life Insurance', 'Health...   \n",
      "2                                                 []   \n",
      "3                                                 []   \n",
      "4                                                 []   \n",
      "\n",
      "                                           nlpSkills  \\\n",
      "0  ['Nuclear Medicine', 'Wound Care', 'Digestive ...   \n",
      "1  ['Radiation Therapy', 'Hair Loss', 'Radiation ...   \n",
      "2                                                 []   \n",
      "3     ['Medical Equipment', 'Ambulances', 'Agility']   \n",
      "4  ['Appraisals', 'Cash Receipts', 'Product Knowl...   \n",
      "\n",
      "                                       nlpSoftSkills  \\\n",
      "0                              ['Computer Literacy']   \n",
      "1                               ['Customer Service']   \n",
      "2                                                 []   \n",
      "3                                     ['Management']   \n",
      "4  ['Sales', 'Problem Solving', 'Organizational S...   \n",
      "\n",
      "                  nlpDegreeLevel nlpEmployment      nlpSeniority  \\\n",
      "0                 ['Associates']     Full-time       Entry level   \n",
      "1     ['Masters', 'Certificate']     Full-time       Entry level   \n",
      "2                             []     Full-time       Entry level   \n",
      "3                ['High School']     Full-time       Entry level   \n",
      "4  ['Associates', 'High School']     Full-time  Mid-Senior level   \n",
      "\n",
      "           correctDate          scrapedLocation  \n",
      "0  2025-01-06 00:00:00     Templeton, CA, 93465  \n",
      "1  2025-01-06 00:00:00   Terre Haute, IN, 47802  \n",
      "2  2025-01-06 15:08:54               Hobart, IN  \n",
      "3  2025-01-06 06:32:50            Bay Shore, NY  \n",
      "4  2025-01-05 00:00:00  Byron Center, MI, 49315  \n"
     ]
    }
   ],
   "source": [
    "import pandas as pd\n",
    "\n",
    "# Load the data\n",
    "df = pd.read_csv('jobs.csv.zip')\n",
    "print(df.head())"
   ]
  },
  {
   "cell_type": "markdown",
   "id": "0b63886d-0890-47ab-81ce-ca44075eb3bd",
   "metadata": {
    "jp-MarkdownHeadingCollapsed": true
   },
   "source": [
    "## 2. Data Exploration"
   ]
  },
  {
   "cell_type": "code",
   "execution_count": 5,
   "id": "1ae8ade2-660f-4ed1-a5a9-241395b23d17",
   "metadata": {
    "scrolled": true
   },
   "outputs": [
    {
     "name": "stdout",
     "output_type": "stream",
     "text": [
      "Dataset Shape: (100000, 17)\n",
      "Missing Values:\n",
      " jobTitle                0\n",
      "companyName           325\n",
      "lid                     0\n",
      "jobDescRaw              0\n",
      "finalZipcode         2051\n",
      "finalState           1420\n",
      "finalCity            1795\n",
      "companyBranchName     325\n",
      "jobDescUrl              0\n",
      "nlpBenefits             0\n",
      "nlpSkills               0\n",
      "nlpSoftSkills           0\n",
      "nlpDegreeLevel          0\n",
      "nlpEmployment           0\n",
      "nlpSeniority            0\n",
      "correctDate            14\n",
      "scrapedLocation         0\n",
      "dtype: int64\n",
      "Average Description Length (words): 471.27361\n",
      "Min Description Length: 0\n",
      "Max Description Length: 4530\n",
      "Top 5 Job Titles:\n",
      " jobTitle\n",
      "Delivery Driver                           736\n",
      "Delivery Driver - No Experience Needed    651\n",
      "Drive with DoorDash                       645\n",
      "Licensed Psychologist                     622\n",
      "Delivery Driver - Earn Extra Cash         609\n",
      "Name: count, dtype: int64\n",
      "Top 5 States:\n",
      " finalState\n",
      "CA     5188\n",
      "TX     4315\n",
      "FL     3568\n",
      "CA,    3093\n",
      "NY     3017\n",
      "Name: count, dtype: int64\n",
      "Seniority Levels:\n",
      " nlpSeniority\n",
      "Entry level         47660\n",
      "Mid-Senior level    45116\n",
      "Associate            2137\n",
      "Director             2119\n",
      "Internship           1754\n",
      "Executive            1214\n",
      "Name: count, dtype: int64\n"
     ]
    }
   ],
   "source": [
    "# Data Inspection\n",
    "\n",
    "# Check the shape of the dataset\n",
    "print(\"Dataset Shape:\", df.shape)\n",
    "\n",
    "# Check for missing values\n",
    "print(\"Missing Values:\\n\", df.isnull().sum())\n",
    "\n",
    "# Clean HTML tags from jobDescRaw and calculate description lengths\n",
    "df['jobDescCleaned'] = df['jobDescRaw'].str.replace(r'<[^>]+>', '', regex=True)  # Remove HTML tags\n",
    "df['jobDescCleaned'] = df['jobDescCleaned'].str.replace(r'[^a-zA-Z\\s]', '', regex=True)  # Keep only letters and spaces\n",
    "df['description_length'] = df['jobDescCleaned'].apply(lambda x: len(str(x).split()))\n",
    "print(\"Average Description Length (words):\", df['description_length'].mean())\n",
    "print(\"Min Description Length:\", df['description_length'].min())\n",
    "print(\"Max Description Length:\", df['description_length'].max())\n",
    "\n",
    "# Distribution of job titles, states, and seniority\n",
    "print(\"Top 5 Job Titles:\\n\", df['jobTitle'].value_counts().head())\n",
    "print(\"Top 5 States:\\n\", df['finalState'].value_counts().head())\n",
    "print(\"Seniority Levels:\\n\", df['nlpSeniority'].value_counts())"
   ]
  },
  {
   "cell_type": "code",
   "execution_count": 6,
   "id": "cda93afb-04fe-4a82-9081-4e5f6b6cd757",
   "metadata": {},
   "outputs": [
    {
     "name": "stderr",
     "output_type": "stream",
     "text": [
      "/var/folders/gv/l2x3hd0s207dvl6x_ttggkgr0000gr/T/ipykernel_93318/3547551447.py:14: SettingWithCopyWarning: \n",
      "A value is trying to be set on a copy of a slice from a DataFrame.\n",
      "Try using .loc[row_indexer,col_indexer] = value instead\n",
      "\n",
      "See the caveats in the documentation: https://pandas.pydata.org/pandas-docs/stable/user_guide/indexing.html#returning-a-view-versus-a-copy\n",
      "  df['finalState'] = df['finalState'].str.replace(r',\\s*$', '', regex=True)\n",
      "/var/folders/gv/l2x3hd0s207dvl6x_ttggkgr0000gr/T/ipykernel_93318/3547551447.py:17: SettingWithCopyWarning: \n",
      "A value is trying to be set on a copy of a slice from a DataFrame.\n",
      "Try using .loc[row_indexer,col_indexer] = value instead\n",
      "\n",
      "See the caveats in the documentation: https://pandas.pydata.org/pandas-docs/stable/user_guide/indexing.html#returning-a-view-versus-a-copy\n",
      "  df['jobDescCleaned'] = df['jobDescCleaned'].apply(lambda x: ' '.join(str(x).split()[:1000]))\n"
     ]
    }
   ],
   "source": [
    "# Data Cleaning\n",
    "\n",
    "# Clean HTML tags and special characters from jobDescRaw\n",
    "df['jobDescCleaned'] = df['jobDescRaw'].str.replace(r'<[^>]+>', '', regex=True)  # Remove HTML tags\n",
    "df['jobDescCleaned'] = df['jobDescCleaned'].str.replace(r'[^a-zA-Z\\s]', '', regex=True)  # Keep only letters and spaces\n",
    "\n",
    "# Recalculate description lengths\n",
    "df['description_length'] = df['jobDescCleaned'].apply(lambda x: len(str(x).split()))\n",
    "\n",
    "# Remove rows with no descriptions\n",
    "df = df[df['description_length'] > 0]\n",
    "\n",
    "# Clean finalState column\n",
    "df['finalState'] = df['finalState'].str.replace(r',\\s*$', '', regex=True)\n",
    "\n",
    "# Truncate long descriptions to 1,000 words\n",
    "df['jobDescCleaned'] = df['jobDescCleaned'].apply(lambda x: ' '.join(str(x).split()[:1000]))"
   ]
  },
  {
   "cell_type": "markdown",
   "id": "297a057e-0098-4f3c-83be-7efda4b91453",
   "metadata": {},
   "source": [
    "## 3: Generate Embeddings with Sentence-Transformers, GloVe, and spaCy"
   ]
  },
  {
   "cell_type": "markdown",
   "id": "3af69263-14a2-49d3-be06-34012fac4542",
   "metadata": {},
   "source": [
    "Use sentence-transformers, GloVe, CBOW, and spaCy to generate embeddings for the job descriptions. I’ll use sentence-transformers as the primary method because of its effectiveness for semantic similarity tasks, and I’ll also implement GloVe (via gensim) and spaCy for comparison. I’ll skip CBOW for now since it’s a training method for Word2Vec (similar to GloVe), requires training a custom model. There does seem to be a lot of variety across the jobs, so if the results are not satisfying for the training method I use for the embeddings, I will explore a custom model. "
   ]
  },
  {
   "cell_type": "markdown",
   "id": "80004300-eee7-4147-af67-66dedfe88d74",
   "metadata": {},
   "source": [
    "### Step 1: Generate Embeddings with Sentence-Transformers"
   ]
  },
  {
   "cell_type": "code",
   "execution_count": 7,
   "id": "cb4826db-0519-4fcd-86cc-51960d315a42",
   "metadata": {},
   "outputs": [
    {
     "data": {
      "application/vnd.jupyter.widget-view+json": {
       "model_id": "fee5f15a532c4b5594d2dbf3e7e87d7c",
       "version_major": 2,
       "version_minor": 0
      },
      "text/plain": [
       "Batches:   0%|          | 0/3125 [00:00<?, ?it/s]"
      ]
     },
     "metadata": {},
     "output_type": "display_data"
    },
    {
     "name": "stdout",
     "output_type": "stream",
     "text": [
      "Embeddings saved successfully!\n"
     ]
    }
   ],
   "source": [
    "from sentence_transformers import SentenceTransformer\n",
    "\n",
    "# Load a pre-trained model, the all-MiniLM-L6-v2 model produces 384-dimensional \n",
    "# embeddings that capture contextual meaning across the entire description\n",
    "model = SentenceTransformer('all-MiniLM-L6-v2')\n",
    "\n",
    "#The batch_size=32 parameter helps manage memory usage for a large dataset (99,992 rows).\n",
    "embeddings = model.encode(df['jobDescCleaned'].tolist(), show_progress_bar=True, batch_size=32)\n",
    "\n",
    "# Add embeddings to the dataframe\n",
    "df['embeddings'] = list(embeddings)\n",
    "\n",
    "# Save the updated dataframe to a new CSV file\n",
    "df.to_csv('jobs_with_sentence_embeddings.csv', index=False)\n",
    "\n",
    "print(\"Embeddings saved successfully!\")"
   ]
  },
  {
   "cell_type": "markdown",
   "id": "248c9793-6dec-4dc9-87be-2d2eafd188fe",
   "metadata": {},
   "source": [
    "### Step 2: Generate Embeddings with GloVe"
   ]
  },
  {
   "cell_type": "markdown",
   "id": "b495f62f-2cf9-4da3-af25-40d4a95288f9",
   "metadata": {},
   "source": [
    "GloVe embeddings are static word embeddings, so we’ll need to average the embeddings of individual words in each job description to get a single vector per description. I’ll use the gensim library to load pre-trained GloVe embeddings."
   ]
  },
  {
   "cell_type": "code",
   "execution_count": 8,
   "id": "17642a8a-e184-42b4-9333-9b0a5541c0d1",
   "metadata": {
    "scrolled": true
   },
   "outputs": [],
   "source": [
    "import numpy as np\n",
    "from gensim.downloader import load\n",
    "\n",
    "# Load pre-trained GloVe embeddings, glove-wiki-gigaword-300 provides 300-dimensional \n",
    "# embeddings trained on Wikipedia and Gigaword.\n",
    "glove_model = load('glove-wiki-gigaword-300')\n",
    "\n",
    "# Function to compute average GloVe embedding for a description\n",
    "# Averaging word embeddings is a simple way to get a single vector per description, \n",
    "# but it may lose some contextual information compared to sentence-transformers.\n",
    "def get_glove_embedding(text):\n",
    "    words = text.split()\n",
    "    word_vectors = [glove_model[word] for word in words if word in glove_model]\n",
    "    if not word_vectors:  # If no words are in the vocabulary, return a zero vector\n",
    "        return np.zeros(300)\n",
    "    return np.mean(word_vectors, axis=0)\n",
    "\n",
    "# Generate GloVe embeddings for job descriptions\n",
    "df['glove_embeddings'] = df['jobDescCleaned'].apply(get_glove_embedding)\n",
    "\n",
    "df.to_csv('jobs_with_glove_embeddings.csv', index=False)"
   ]
  },
  {
   "cell_type": "markdown",
   "id": "dd7ee85b-e5c8-498f-bfd5-2629ddfbb5b7",
   "metadata": {},
   "source": [
    "### Step 3 Generate Embeddings with spaCy"
   ]
  },
  {
   "cell_type": "code",
   "execution_count": null,
   "id": "af2f8e41-efa8-4614-bfc8-8b9c3ad25d3f",
   "metadata": {},
   "outputs": [],
   "source": [
    "import spacy\n",
    "import pandas as pd\n",
    "import numpy as np\n",
    "from tqdm.auto import tqdm  # Auto works best across Jupyter & scripts\n",
    "\n",
    "# !python -m spacy download en_core_web_lg\n",
    "\n",
    "# Load spaCy's large English model with word vectors\n",
    "# en_core_web_lg provides 300-dimensional embeddings by averaging the token vectors in the description.\n",
    "# Like GloVe, this method may lose some contextual nuance compared to sentence-transformers. Speed is also slower.\n",
    "nlp = spacy.load('en_core_web_lg', disable=[\"parser\", \"ner\"])\n",
    "\n",
    "# Ensure no NaN values in the column\n",
    "df['jobDescCleaned'] = df['jobDescCleaned'].fillna(\"\")\n",
    "\n",
    "# Enable tqdm progress bar for spaCy's pipe()\n",
    "tqdm.pandas(desc=\"Processing job descriptions\")\n",
    "\n",
    "# Process in batches using pipe() to speed up the progress\n",
    "def generate_embeddings(texts):\n",
    "    return np.array([doc.vector for doc in tqdm(nlp.pipe(texts, batch_size=256, n_process=4), total=len(texts), desc=\"Generating embeddings\", dynamic_ncols=True)])\n",
    "\n",
    "# Generate embeddings with progress bar\n",
    "df['spacy_embeddings'] = list(generate_embeddings(df['jobDescCleaned'].tolist()))\n",
    "\n",
    "# Save to file\n",
    "df.to_csv('jobs_with_spacy_embeddings.csv', index=False)\n",
    "\n",
    "print(\"Embeddings saved successfully!\")"
   ]
  },
  {
   "cell_type": "markdown",
   "id": "0811226d-6eaa-41aa-9a04-71638600cf1a",
   "metadata": {},
   "source": [
    "Comparison:\n",
    "\n",
    "* Sentence-Transformers: 384-dimensional, contextual embeddings that capture the full meaning of the description.\n",
    "* GloVe: 300-dimensional, static embeddings averaged over words, less context-aware.\n",
    "* spaCy: 300-dimensional, averaged token embeddings, similar to GloVe but with spaCy’s tokenization and vector space."
   ]
  },
  {
   "cell_type": "markdown",
   "id": "58efce78-8523-44c0-a326-b07bcfddf7e5",
   "metadata": {},
   "source": [
    "## 4. Vector Search"
   ]
  },
  {
   "cell_type": "markdown",
   "id": "ddf8acce-9466-4a28-b622-686886f3b64c",
   "metadata": {},
   "source": [
    "I’ll implement a vector search system to find similar job descriptions using the embeddings. Given the large dataset (99,992 rows), I’ll use faiss for efficient similarity search, as it’s more scalable than computing cosine similarity for every query."
   ]
  },
  {
   "cell_type": "markdown",
   "id": "09b76ba6-6704-44bc-9c04-95a4f278300b",
   "metadata": {},
   "source": [
    "Implementation with FAISS:"
   ]
  },
  {
   "cell_type": "code",
   "execution_count": 17,
   "id": "1657d709-dd70-4d25-bb42-040b29cc7fda",
   "metadata": {
    "scrolled": true
   },
   "outputs": [
    {
     "name": "stdin",
     "output_type": "stream",
     "text": [
      "Enter job title to search:  Delivery Driver\n",
      "Enter the number of similar jobs to retrieve:  10\n"
     ]
    },
    {
     "name": "stdout",
     "output_type": "stream",
     "text": [
      "\n",
      "Processing GloVe embeddings...\n"
     ]
    },
    {
     "name": "stderr",
     "output_type": "stream",
     "text": [
      "Parsing embeddings (jobs_with_glove_embeddings.csv): 100%|█| 99992/99992 [00:06<\n",
      "Adding embeddings to FAISS: 100%|████| 99992/99992 [00:00<00:00, 1548395.46it/s]\n"
     ]
    },
    {
     "name": "stdout",
     "output_type": "stream",
     "text": [
      "Similar jobs found for GloVe:\n",
      "Job ID                              Job Title                                Company Name                             Similarity Score    \n",
      "---------------------------------------------------------------------------------------------------------------------------------------\n",
      "d81838db03b3eb92afe0022d37b62c28    Delivery Driver - No Experience Needed   DoorDash                                 0.9996              \n",
      "4b29e43947b9ec686402ab87d954a4f2    Delivery Driver                          DoorDash                                 0.9996              \n",
      "6a95870e59ad8909d2daa62e06725dc5    Restaurant Delivery                      DoorDash                                 0.9996              \n",
      "bfbd1e7a19cecea9516f7eef737d9dc1    Delivery Driver - No Experience Needed   DoorDash                                 0.9996              \n",
      "693d86972e06012e89f1dc49aac51179    Restaurant Delivery                      DoorDash                                 0.9996              \n",
      "1821dd44a9ab4ab21396f16312a3ce8e    Delivery Driver - Sign Up and Start Earning DoorDash                                 0.9996              \n",
      "55f04eaf8cc4a2288d62328fa87bbfba    Delivery Driver - Sign Up and Start Earning DoorDash                                 0.9996              \n",
      "cc3217655f492245ed6b122a98fb49de    Delivery Driver - No Experience Needed   DoorDash                                 0.9996              \n",
      "a24106a6ccee56eb3ca05683ab7f3d00    Delivery Driver - No Experience Needed   DoorDash                                 0.9996              \n",
      "8897a5216a41cdcc17a347c632fab559    Delivery Driver                          DoorDash                                 0.9996              \n",
      "\n",
      "Processing SpaCy embeddings...\n"
     ]
    },
    {
     "name": "stderr",
     "output_type": "stream",
     "text": [
      "Parsing embeddings (jobs_with_spacy_embeddings.csv): 100%|█| 99992/99992 [00:06<\n",
      "Adding embeddings to FAISS: 100%|████| 99992/99992 [00:00<00:00, 2333976.17it/s]\n"
     ]
    },
    {
     "name": "stdout",
     "output_type": "stream",
     "text": [
      "Similar jobs found for SpaCy:\n",
      "Job ID                              Job Title                                Company Name                             Similarity Score    \n",
      "---------------------------------------------------------------------------------------------------------------------------------------\n",
      "85d414afe0036b8f94e57e78ed468526    Delivery Driver                          DoorDash                                 0.9997              \n",
      "1877c88be826c6e301bd7895a1314af6    Delivery Driver                          DoorDash                                 0.9997              \n",
      "be537722a76ea2a66a96925f0e7207d7    Delivery Driver                          DoorDash                                 0.9997              \n",
      "a96e7dffa00840e8a444cff717301c8f    Delivery Driver                          DoorDash                                 0.9996              \n",
      "6f014f67bec8fd1989cf9cecf21ad987    Delivery Driver - Sign Up and Start Earning DoorDash                                 0.9996              \n",
      "af7a821cadb7800d1757dd07dc481109    Delivery Driver                          DoorDash                                 0.9996              \n",
      "1c8fd848e89089e330b9b26289611e02    Delivery Driver - No Experience Needed   DoorDash                                 0.9996              \n",
      "09228009b9faadfbfe63d2fd0ad91eb1    Delivery Driver                          DoorDash                                 0.9996              \n",
      "693d86972e06012e89f1dc49aac51179    Restaurant Delivery                      DoorDash                                 0.9996              \n",
      "81c1702621e0f4cb4a9afb137da6a8fc    Delivery Driver                          DoorDash                                 0.9996              \n",
      "\n",
      "Processing Sentence-Transformers embeddings...\n"
     ]
    },
    {
     "name": "stderr",
     "output_type": "stream",
     "text": [
      "Parsing embeddings (jobs_with_sentence_embeddings.csv): 100%|█| 99992/99992 [00:\n",
      "Adding embeddings to FAISS: 100%|████| 99992/99992 [00:00<00:00, 2322524.59it/s]\n"
     ]
    },
    {
     "name": "stdout",
     "output_type": "stream",
     "text": [
      "Similar jobs found for Sentence-Transformers:\n",
      "Job ID                              Job Title                                Company Name                             Similarity Score    \n",
      "---------------------------------------------------------------------------------------------------------------------------------------\n",
      "5d24476af0d83d26b9da971871ea4566    Delivery Driver                          DoorDash                                 0.9942              \n",
      "0a61710c1fb5764a37005043b9e50939    Delivery Driver                          DoorDash                                 0.9942              \n",
      "1ad0408836fa64846585fec4ed581cca    Delivery Driver                          DoorDash                                 0.9939              \n",
      "1a7c932d0da843f859509288924b4a9e    Delivery Driver                          DoorDash                                 0.9939              \n",
      "262f85b0cce80fbec1faf9ac2878ee23    Delivery Driver                          DoorDash                                 0.9938              \n",
      "64622006d454c8aee4f19e2e1f34d133    Delivery Driver                          DoorDash                                 0.9938              \n",
      "141db98cfbefcae61633a7849165f47c    Delivery Driver                          DoorDash                                 0.9936              \n",
      "be537722a76ea2a66a96925f0e7207d7    Delivery Driver                          DoorDash                                 0.9935              \n",
      "50d9063fea74212e5d81268952589390    Delivery Driver                          DoorDash                                 0.9934              \n",
      "a96e7dffa00840e8a444cff717301c8f    Delivery Driver                          DoorDash                                 0.9934              \n",
      "\n",
      "Evaluation Metrics:\n",
      "                       Precision@5  Recall@5  MRR  NDCG\n",
      "GloVe                          1.0  0.000668  1.0   1.0\n",
      "SpaCy                          1.0  0.000668  1.0   1.0\n",
      "Sentence-Transformers          1.0  0.000668  1.0   1.0\n"
     ]
    },
    {
     "data": {
      "image/png": "[encoded data removed]",
      "text/plain": [
       "<Figure size 1000x600 with 1 Axes>"
      ]
     },
     "metadata": {},
     "output_type": "display_data"
    },
    {
     "name": "stdout",
     "output_type": "stream",
     "text": [
      "\n",
      "Best performing model based on evaluation metrics: GloVe\n"
     ]
    }
   ],
   "source": [
    "import numpy as np\n",
    "import faiss\n",
    "import ast\n",
    "from tqdm import tqdm\n",
    "from collections import defaultdict\n",
    "import matplotlib.pyplot as plt\n",
    "from sklearn.metrics import ndcg_score\n",
    "\n",
    "class JobEmbeddingSearch:\n",
    "    def __init__(self, embedding_files):\n",
    "        self.embedding_files = embedding_files\n",
    "        self.results = defaultdict(dict)\n",
    "        self.eval_df = None\n",
    "    \n",
    "    def load_and_process_embeddings(self, file_path, column_name):\n",
    "        df = pd.read_csv(file_path)\n",
    "        # Inspect the format of the embeddings\n",
    "        \n",
    "        # Updated parsing method to handle different formats\n",
    "        def parse_embedding(embedding_str):\n",
    "            try:\n",
    "                # First, try ast.literal_eval (handles formats like '[0.1, 0.2, 0.3]')\n",
    "                embedding_list = ast.literal_eval(embedding_str)\n",
    "                return np.array(embedding_list, dtype=np.float32)\n",
    "            except:\n",
    "                try:\n",
    "                    # Fallback: strip brackets and split (handles formats like '[0.1 0.2 0.3]')\n",
    "                    embedding_list = [float(x) for x in embedding_str.strip('[]').split()]\n",
    "                    return np.array(embedding_list, dtype=np.float32)\n",
    "                except Exception as e:\n",
    "                    # Return a zero vector of the correct size (384 for Sentence-Transformers, 300 for GloVe and spaCy)\n",
    "                    return np.zeros(384 if 'sentence' in file_path.lower() else 300, dtype=np.float32)\n",
    "\n",
    "        # Apply parsing with progress bar\n",
    "        tqdm.pandas(desc=f\"Parsing embeddings ({file_path})\")\n",
    "        df[column_name] = df[column_name].progress_apply(parse_embedding)\n",
    "        \n",
    "        # Convert to embedding matrix\n",
    "        embedding_matrix = np.vstack(df[column_name])\n",
    "        \n",
    "        # Check for zero vectors\n",
    "        zero_vectors = np.all(embedding_matrix == 0, axis=1).sum()\n",
    "\n",
    "        # Normalize for cosine similarity\n",
    "        faiss.normalize_L2(embedding_matrix)\n",
    "        \n",
    "        # Check norms after normalization\n",
    "        norms = np.linalg.norm(embedding_matrix, axis=1)\n",
    "\n",
    "        return df, embedding_matrix\n",
    "\n",
    "    def build_faiss_index(self, embedding_matrix):\n",
    "        d = embedding_matrix.shape[1]\n",
    "        # Use IndexIVFFlat for faster search\n",
    "        nlist = 100  # Number of clusters\n",
    "        quantizer = faiss.IndexFlatIP(d)\n",
    "        index = faiss.IndexIVFFlat(quantizer, d, nlist, faiss.METRIC_INNER_PRODUCT)\n",
    "        \n",
    "        # Train the index\n",
    "        index.train(embedding_matrix)\n",
    "        \n",
    "        # Add embeddings with progress bar\n",
    "        with tqdm(total=embedding_matrix.shape[0], desc=\"Adding embeddings to FAISS\") as pbar:\n",
    "            index.add(embedding_matrix)\n",
    "            pbar.update(embedding_matrix.shape[0])\n",
    "        \n",
    "        index.nprobe = 10  # Number of clusters to probe\n",
    "        return index\n",
    "\n",
    "    def find_similar_jobs(self, job_title, df, embedding_matrix, faiss_index, top_k):\n",
    "        query_idx = df[df['jobTitle'] == job_title].index\n",
    "        if query_idx.empty:\n",
    "            print(f\"Job title '{job_title}' not found in dataset.\")\n",
    "            return None, None\n",
    "        query_idx = query_idx[0]\n",
    "        query_embedding = embedding_matrix[query_idx].reshape(1, -1)\n",
    "        if np.all(query_embedding == 0):\n",
    "            print(\"Warning: Query embedding is a zero vector!\")\n",
    "        distances, indices = faiss_index.search(query_embedding, top_k + 1)\n",
    "        similar_indices = indices[0][1:]\n",
    "        return df.iloc[similar_indices], distances[0][1:]\n",
    "\n",
    "    def compute_metrics(self, job_title, similar_jobs, similarities, df, top_k):\n",
    "        # Define relevant jobs (ground truth) based on job title keywords\n",
    "        query_keywords = set(job_title.lower().split())\n",
    "        relevant_jobs = df[df['jobTitle'].str.lower().apply(\n",
    "            lambda x: any(keyword in x for keyword in query_keywords if len(keyword) > 3)\n",
    "        )].index.tolist()\n",
    "        \n",
    "        # Get indices of retrieved jobs\n",
    "        retrieved_indices = similar_jobs.index.tolist()\n",
    "        \n",
    "        # Precision@5: Fraction of retrieved jobs that are relevant\n",
    "        relevant_retrieved = len(set(retrieved_indices[:5]).intersection(relevant_jobs))\n",
    "        precision_at_5 = relevant_retrieved / 5 if len(retrieved_indices) >= 5 else 0\n",
    "        \n",
    "        # Recall@5: Fraction of relevant jobs that were retrieved\n",
    "        recall_at_5 = relevant_retrieved / len(relevant_jobs) if len(relevant_jobs) > 0 else 0\n",
    "        \n",
    "        # MRR: Mean Reciprocal Rank\n",
    "        mrr = 0\n",
    "        for rank, idx in enumerate(retrieved_indices, 1):\n",
    "            if idx in relevant_jobs:\n",
    "                mrr = 1 / rank\n",
    "                break\n",
    "        \n",
    "        # NDCG@5: Normalized Discounted Cumulative Gain\n",
    "        true_relevance = [1 if idx in relevant_jobs else 0 for idx in retrieved_indices[:5]]\n",
    "        if len(true_relevance) < 5:\n",
    "            true_relevance.extend([0] * (5 - len(true_relevance)))\n",
    "        ideal_relevance = sorted(true_relevance, reverse=True)\n",
    "        ndcg = ndcg_score([ideal_relevance], [true_relevance]) if sum(true_relevance) > 0 else 0\n",
    "        \n",
    "        return {\n",
    "            'Precision@5': precision_at_5,\n",
    "            'Recall@5': recall_at_5,\n",
    "            'MRR': mrr,\n",
    "            'NDCG': ndcg\n",
    "        }\n",
    "\n",
    "    def run_search(self, job_title):\n",
    "        top_k = int(input(\"Enter the number of similar jobs to retrieve: \"))\n",
    "        \n",
    "        # Define domain keywords based on the job title\n",
    "        query_keywords = job_title.lower().split()\n",
    "        domain_keywords = query_keywords + [\"research\", \"lab\", \"science\", \"tech\"]  # General domain keywords\n",
    "        \n",
    "        for model, (file_path, column_name) in self.embedding_files.items():\n",
    "            print(f\"\\nProcessing {model} embeddings...\")\n",
    "            df, embedding_matrix = self.load_and_process_embeddings(file_path, column_name)\n",
    "            index = self.build_faiss_index(embedding_matrix)\n",
    "            similar_jobs, similarities = self.find_similar_jobs(job_title, df, embedding_matrix, index, top_k=top_k)\n",
    "            \n",
    "            if similar_jobs is not None:\n",
    "                self.results[model]['similar_jobs'] = similar_jobs\n",
    "                self.results[model]['similarities'] = similarities\n",
    "                \n",
    "                # Compute evaluation metrics\n",
    "                metrics = self.compute_metrics(job_title, similar_jobs, similarities, df, top_k)\n",
    "                for metric, value in metrics.items():\n",
    "                    self.results[model][metric] = value\n",
    "                \n",
    "                print(f\"Similar jobs found for {model}:\")\n",
    "                print(f\"{'Job ID':<35} {'Job Title':<40} {'Company Name':<40} {'Similarity Score':<20}\")\n",
    "                print(\"-\" * 135)\n",
    "                \n",
    "                for idx, row in similar_jobs.iterrows():\n",
    "                    job_id = row['lid']\n",
    "                    job_title_display = row['jobTitle']\n",
    "                    company_name = row['companyName']\n",
    "                    similarity_score = similarities[similar_jobs.index.get_loc(idx)]\n",
    "                    \n",
    "                    # Check if the job title or description contains domain keywords\n",
    "                    job_desc = row.get('jobDescCleaned', '')\n",
    "                    if any(keyword.lower() in job_title_display.lower() or keyword.lower() in job_desc.lower() \n",
    "                           for keyword in domain_keywords):\n",
    "                        print(f\"{job_id:<35} {job_title_display:<40} {company_name:<40} {similarity_score:<20.4f}\")\n",
    "        \n",
    "        # Create evaluation DataFrame\n",
    "        metrics = ['Precision@5', 'Recall@5', 'MRR', 'NDCG']\n",
    "        self.eval_df = pd.DataFrame.from_dict(\n",
    "            {model: [results[metric] for metric in metrics] for model, results in self.results.items()},\n",
    "            orient='index',\n",
    "            columns=metrics\n",
    "        )\n",
    "        print(\"\\nEvaluation Metrics:\")\n",
    "        print(self.eval_df)\n",
    "\n",
    "    def plot_results(self):\n",
    "        if self.eval_df is None:\n",
    "            print(\"No evaluation data available. Run search first.\")\n",
    "            return\n",
    "        \n",
    "        self.eval_df.plot(kind='bar', figsize=(10, 6))\n",
    "        plt.title(\"Comparison of Embedding Models Based on Evaluation Metrics\")\n",
    "        plt.ylabel(\"Score\")\n",
    "        plt.xlabel(\"Embedding Models\")\n",
    "        plt.xticks(rotation=45)\n",
    "        plt.legend(title=\"Metrics\")\n",
    "        plt.grid(axis='y', linestyle='--', alpha=0.7)\n",
    "        plt.show()\n",
    "    \n",
    "    def best_model(self):\n",
    "        if self.eval_df is None:\n",
    "            print(\"No evaluation data available. Run search first.\")\n",
    "            return\n",
    "        \n",
    "        self.eval_df['Average Score'] = self.eval_df.mean(axis=1)\n",
    "        best_model = self.eval_df['Average Score'].idxmax()\n",
    "        print(f\"\\nBest performing model based on evaluation metrics: {best_model}\")\n",
    "\n",
    "# Define file paths and embedding column names\n",
    "embedding_files = {\n",
    "    'GloVe': ('jobs_with_glove_embeddings.csv', 'glove_embeddings'),\n",
    "    'SpaCy': ('jobs_with_spacy_embeddings.csv', 'spacy_embeddings'),\n",
    "    'Sentence-Transformers': ('jobs_with_sentence_embeddings.csv', 'embeddings')\n",
    "}\n",
    "\n",
    "# Initialize the class and run search\n",
    "job_search = JobEmbeddingSearch(embedding_files)\n",
    "user_input_job = input(\"Enter job title to search: \")\n",
    "job_search.run_search(user_input_job)\n",
    "\n",
    "# Plot results only if the search returned results\n",
    "if job_search.results:\n",
    "    job_search.plot_results()\n",
    "job_search.best_model()"
   ]
  },
  {
   "cell_type": "code",
   "execution_count": 85,
   "id": "e817b885-0b38-44f1-87c9-18e9264cbbcc",
   "metadata": {},
   "outputs": [
    {
     "data": {
      "text/plain": [
       "0    Nuclear Medicine Tech, Full Time, Day Shift\n",
       "1            Radiation Therapist - SIGN-ON BONUS\n",
       "2              Delivery Driver - Earn Extra Cash\n",
       "3                                      Paramedic\n",
       "4          Sales Lead - White House Black Market\n",
       "5              Fabrication Associate - Assembler\n",
       "Name: jobTitle, dtype: object"
      ]
     },
     "execution_count": 85,
     "metadata": {},
     "output_type": "execute_result"
    }
   ],
   "source": [
    "df['jobTitle'][0:6]"
   ]
  },
  {
   "cell_type": "code",
   "execution_count": null,
   "id": "d9c75c5f-74aa-4b25-b576-7b9620132636",
   "metadata": {},
   "outputs": [],
   "source": []
  },
  {
   "cell_type": "code",
   "execution_count": null,
   "id": "294cac9b-62d5-4361-a9f9-cecb0a74e987",
   "metadata": {},
   "outputs": [],
   "source": []
  },
  {
   "cell_type": "code",
   "execution_count": null,
   "id": "cc0dbd3a-5722-4a0e-bd3c-175e7a58250a",
   "metadata": {},
   "outputs": [],
   "source": []
  }
 ],
 "metadata": {
  "kernelspec": {
   "display_name": "Python 3 (ipykernel)",
   "language": "python",
   "name": "python3"
  },
  "language_info": {
   "codemirror_mode": {
    "name": "ipython",
    "version": 3
   },
   "file_extension": ".py",
   "mimetype": "text/x-python",
   "name": "python",
   "nbconvert_exporter": "python",
   "pygments_lexer": "ipython3",
   "version": "3.11.8"
  }
 },
 "nbformat": 4,
 "nbformat_minor": 5
}
